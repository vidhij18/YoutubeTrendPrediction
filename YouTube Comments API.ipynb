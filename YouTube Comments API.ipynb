{
 "cells": [
  {
   "cell_type": "code",
   "execution_count": 1,
   "metadata": {
    "colab": {
     "base_uri": "https://localhost:8080/",
     "height": 218
    },
    "executionInfo": {
     "elapsed": 1759,
     "status": "error",
     "timestamp": 1640287411252,
     "user": {
      "displayName": "Paula BITTENCOURT BEER",
      "photoUrl": "https://lh3.googleusercontent.com/a/default-user=s64",
      "userId": "11586904882380464714"
     },
     "user_tz": 60
    },
    "id": "FLM3EHESJwSX",
    "outputId": "e63f2d26-af49-46bb-aaa0-725ef8719724"
   },
   "outputs": [],
   "source": [
    "# !pip install upgrade google-api-python-client"
   ]
  },
  {
   "cell_type": "code",
   "execution_count": null,
   "metadata": {
    "executionInfo": {
     "elapsed": 9,
     "status": "aborted",
     "timestamp": 1640287328303,
     "user": {
      "displayName": "Paula BITTENCOURT BEER",
      "photoUrl": "https://lh3.googleusercontent.com/a/default-user=s64",
      "userId": "11586904882380464714"
     },
     "user_tz": 60
    },
    "id": "MZW0Ek6IJwSb"
   },
   "outputs": [],
   "source": [
    "import numpy as np\n",
    "import pandas as pd\n",
    "from datetime import datetime"
   ]
  },
  {
   "cell_type": "markdown",
   "metadata": {
    "id": "FqNKrMBrJwSb"
   },
   "source": [
    "Once we have our credentials set up, we can now start collecting comments! We’ll first build the service for calling the YouTube API:"
   ]
  },
  {
   "cell_type": "code",
   "execution_count": null,
   "metadata": {
    "id": "zspTUkp_JwSd"
   },
   "outputs": [],
   "source": [
    "from apiclient.discovery import build\n",
    "\n",
    "def build_service(filename):\n",
    "    with open(filename) as f:\n",
    "        key = f.readline()\n",
    "\n",
    "    YOUTUBE_API_SERVICE_NAME = \"youtube\"\n",
    "    YOUTUBE_API_VERSION = \"v3\"\n",
    "    return build(YOUTUBE_API_SERVICE_NAME,\n",
    "                 YOUTUBE_API_VERSION,\n",
    "                 developerKey=key)"
   ]
  },
  {
   "cell_type": "code",
   "execution_count": null,
   "metadata": {
    "id": "MiGUQQIiJwSd"
   },
   "outputs": [],
   "source": [
    "service = build_service('apikey.json') "
   ]
  },
  {
   "cell_type": "code",
   "execution_count": null,
   "metadata": {
    "id": "KJXhGmXKJwSe"
   },
   "outputs": [],
   "source": [
    "df = pd.read_csv('archive/US_youtube_trending_data.csv')\n",
    "df = df.head(50)\n",
    "videoIdList = df['video_id'].tolist()\n",
    "trendingDateList = df['trending_date'].tolist()\n",
    "# videoIdList\n",
    "# trendingDateList"
   ]
  },
  {
   "cell_type": "code",
   "execution_count": null,
   "metadata": {
    "id": "ovovszYEJwSe",
    "outputId": "a9031c42-8826-4f52-ec46-b1f3666ce02f"
   },
   "outputs": [
    {
     "name": "stdout",
     "output_type": "stream",
     "text": [
      "-251\n"
     ]
    }
   ],
   "source": [
    "#test code\n",
    "video_trending_date = trendingDateList[1]\n",
    "date_format = \"%Y-%m-%dT%H:%M:%SZ\"\n",
    "a = datetime.strptime(video_trending_date, date_format)\n",
    "b = datetime.strptime(item['snippet']['topLevelComment']['snippet']['publishedAt'], date_format)\n",
    "print((a-b).days)"
   ]
  },
  {
   "cell_type": "code",
   "execution_count": null,
   "metadata": {
    "id": "yX0zmQTWJwSg"
   },
   "outputs": [],
   "source": [
    "# videoIdList = ['9bZkp7q19f0']\n",
    "# videoIdList = ['3C66w5Z0ixs','M9Pmf9AB4Mo','J78aPJ3VyNs','kXLn3HkpjaA','VIUo6yapDbc','w-aidBdvZo8','uet14uf9NsE',\n",
    "#                'ua4QMFQATco','SnsPZj91R7E','SsWHMAhshPQ','49Z6Mv4_WCA','nt3VVyv5pxQ','I6hswz4rIrU','W7VK4DUHvKU',\n",
    "#                'W9Aen8hG20Y','BNeDH6UTmXw','6TIsR_7nrNc','gPdUslndvVI','GTp-0S82guE']\n",
    "comment_count = 2000"
   ]
  },
  {
   "cell_type": "markdown",
   "metadata": {
    "id": "ViCQF99_JwSh"
   },
   "source": [
    "parse for the whole list of youtube videos\n",
    "\tfor each video\n",
    "\t\tmake a service call for 100 responses of top comments\n",
    "\t\tstore the data in list\n",
    "\t\t\n",
    "\t\tmake the service call 9 time for 900 more responses\n",
    "\t\tstore in list\n",
    "\t\t\n",
    "\t\tcreate dataframe of lists\n",
    "\t\twrite in csv, file name comment id"
   ]
  },
  {
   "cell_type": "code",
   "execution_count": null,
   "metadata": {
    "id": "3XdEbnILJwSi"
   },
   "outputs": [],
   "source": [
    "def fetch_comments_teratively(videoId, comment_count):\n",
    "    comment, comment_id, reply_count, like_count, published_date = [], [], [], [], []\n",
    "    first_response = True\n",
    "    video_trending_date = trendingDateList[videoIdList.index(videoId)]\n",
    "    if (first_response):\n",
    "\n",
    "        response = service.commentThreads().list(\n",
    "            part='snippet',\n",
    "            maxResults=100,\n",
    "            textFormat='plainText',\n",
    "            order='time',\n",
    "            videoId=videoId\n",
    "        ).execute()\n",
    "        first_response = False\n",
    "    \n",
    "#     comment, comment_id, reply_count, like_count = add_data_to_lists(response, comment, comment_id, reply_count, like_count)\n",
    "    for item in response['items']:\n",
    "        date_format = \"%Y-%m-%dT%H:%M:%SZ\"\n",
    "        a = datetime.strptime(video_trending_date, date_format)\n",
    "        b = datetime.strptime(item['snippet']['topLevelComment']['snippet']['publishedAt'], date_format)\n",
    "        delta = a - b\n",
    "        if(delta.days <= 3 and delta.days >= 0):\n",
    "            comment.append(item['snippet']['topLevelComment']['snippet']['textDisplay'])\n",
    "            comment_id.append(item['snippet']['topLevelComment']['id'])\n",
    "            reply_count.append(item['snippet']['totalReplyCount'])\n",
    "            like_count.append(item['snippet']['topLevelComment']['snippet']['likeCount'])\n",
    "            published_date.append(item['snippet']['topLevelComment']['snippet']['publishedAt'])\n",
    "    \n",
    "#     print(len(comment))\n",
    "    while(len(comment) < comment_count):\n",
    "        try:\n",
    "            if(response['nextPageToken'] != None):\n",
    "#                 print(response['nextPageToken'])\n",
    "                response = service.commentThreads().list(\n",
    "                    part='snippet',\n",
    "                    maxResults=100,\n",
    "                    textFormat='plainText',\n",
    "                    order='time',\n",
    "                    videoId=videoId,\n",
    "                    pageToken=response['nextPageToken']\n",
    "                ).execute()\n",
    "\n",
    "                for item in response['items']:\n",
    "                    date_format = \"%Y-%m-%dT%H:%M:%SZ\"\n",
    "                    a = datetime.strptime(video_trending_date, date_format)\n",
    "                    b = datetime.strptime(item['snippet']['topLevelComment']['snippet']['publishedAt'], date_format)\n",
    "                    delta = a - b\n",
    "                    if(delta.days <= 3 and delta.days >= 0):\n",
    "                        comment.append(item['snippet']['topLevelComment']['snippet']['textDisplay'])\n",
    "                        comment_id.append(item['snippet']['topLevelComment']['id'])\n",
    "                        reply_count.append(item['snippet']['totalReplyCount'])\n",
    "                        like_count.append(item['snippet']['topLevelComment']['snippet']['likeCount'])\n",
    "                        published_date.append(item['snippet']['topLevelComment']['snippet']['publishedAt'])\n",
    "        except:\n",
    "            print(\"Cannot get NextPageToken for interation and Video Id\", i,videoId)\n",
    "            break\n",
    "    print(videoId,len(comment))\n",
    "    first_response = True\n",
    "    return comment, comment_id, reply_count, like_count, published_date"
   ]
  },
  {
   "cell_type": "code",
   "execution_count": 2,
   "metadata": {
    "id": "Bp3Jez4bJwSj",
    "outputId": "ce4d34ab-9548-4ac5-ce32-692ca0df3c85"
   },
   "outputs": [],
   "source": [
    "for i in range(0, len(videoIdList)):\n",
    "    try:\n",
    "        comment, comment_id, reply_count, like_count, published_date = fetch_comments_teratively(videoIdList[i], comment_count)\n",
    "        comments = pd.DataFrame(list(zip(comment, comment_id, reply_count, like_count, published_date)),\n",
    "                       columns =['comment', 'comment_id', 'reply_count', 'like_count', 'published_date'])\n",
    "        if not comments.empty:\n",
    "            comments.to_csv(r\"comment_data/\"+videoIdList[i]+\".csv\", index=False)\n",
    "    except:\n",
    "        print(\"Failed on this video, trying next...\", videoIdList[i])\n",
    "        continue"
   ]
  },
  {
   "cell_type": "code",
   "execution_count": null,
   "metadata": {
    "id": "Bmsf6bzUJwSk",
    "outputId": "29edd139-6e04-4a68-9349-1c81fd2e8579"
   },
   "outputs": [
    {
     "name": "stdout",
     "output_type": "stream",
     "text": [
      "1881\n"
     ]
    }
   ],
   "source": [
    "#test code\n",
    "print(len(comment))"
   ]
  },
  {
   "cell_type": "code",
   "execution_count": 3,
   "metadata": {
    "id": "Sua-P925JwSk",
    "outputId": "b84c701a-7549-42d1-ea0c-f1708db01c22"
   },
   "outputs": [],
   "source": [
    "#test code\n",
    "response = service.commentThreads().list(\n",
    "            part='snippet',\n",
    "            maxResults=100,\n",
    "            textFormat='plainText',\n",
    "            order='time',\n",
    "            videoId=videoIdList[1]\n",
    "        ).execute()\n",
    "\n",
    "response_list = []\n",
    "for item in response['items']:\n",
    "    response_list.append(item)\n",
    "    print(item)\n",
    "    \n",
    "# rawdata_df = pd.DataFrame(item, columns=[\"Commentdata\"])\n",
    "# rawdata_df.to_csv(r\"comment_data/rawdata_comments.csv\", index=False)"
   ]
  },
  {
   "cell_type": "code",
   "execution_count": null,
   "metadata": {
    "id": "Gk3Ci34AJwSl",
    "outputId": "8f6526fe-f6c8-4663-c686-a4760f6a9c33"
   },
   "outputs": [
    {
     "data": {
      "text/html": [
       "<div>\n",
       "<style scoped>\n",
       "    .dataframe tbody tr th:only-of-type {\n",
       "        vertical-align: middle;\n",
       "    }\n",
       "\n",
       "    .dataframe tbody tr th {\n",
       "        vertical-align: top;\n",
       "    }\n",
       "\n",
       "    .dataframe thead th {\n",
       "        text-align: right;\n",
       "    }\n",
       "</style>\n",
       "<table border=\"1\" class=\"dataframe\">\n",
       "  <thead>\n",
       "    <tr style=\"text-align: right;\">\n",
       "      <th></th>\n",
       "      <th>Commentdata</th>\n",
       "    </tr>\n",
       "  </thead>\n",
       "  <tbody>\n",
       "  </tbody>\n",
       "</table>\n",
       "</div>"
      ],
      "text/plain": [
       "Empty DataFrame\n",
       "Columns: [Commentdata]\n",
       "Index: []"
      ]
     },
     "execution_count": 22,
     "metadata": {},
     "output_type": "execute_result"
    }
   ],
   "source": [
    "#test code\n",
    "rawdata_df.head()"
   ]
  }
 ],
 "metadata": {
  "colab": {
   "name": "YouTube Comments API.ipynb",
   "provenance": []
  },
  "kernelspec": {
   "display_name": "Python 3 (ipykernel)",
   "language": "python",
   "name": "python3"
  },
  "language_info": {
   "codemirror_mode": {
    "name": "ipython",
    "version": 3
   },
   "file_extension": ".py",
   "mimetype": "text/x-python",
   "name": "python",
   "nbconvert_exporter": "python",
   "pygments_lexer": "ipython3",
   "version": "3.9.7"
  }
 },
 "nbformat": 4,
 "nbformat_minor": 1
}
